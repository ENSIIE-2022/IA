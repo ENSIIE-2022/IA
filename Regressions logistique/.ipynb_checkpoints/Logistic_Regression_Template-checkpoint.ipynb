{
 "cells": [
  {
   "cell_type": "code",
   "execution_count": null,
   "metadata": {
    "colab": {
     "base_uri": "https://localhost:8080/",
     "height": 72
    },
    "colab_type": "code",
    "executionInfo": {
     "elapsed": 2061,
     "status": "ok",
     "timestamp": 1586886332177,
     "user": {
      "displayName": "Paul Mochkovitch",
      "photoUrl": "https://lh3.googleusercontent.com/a-/AOh14GgB58_lABQ4ByEAHWzpij5b24LDNohM6Q9ajVK7=s64",
      "userId": "15704966492254202589"
     },
     "user_tz": -120
    },
    "id": "iwBnSvD9Q8ST",
    "outputId": "c9706342-de3f-47e5-b76b-36d649c72b82"
   },
   "outputs": [
    {
     "name": "stderr",
     "output_type": "stream",
     "text": [
      "/usr/local/lib/python3.6/dist-packages/statsmodels/tools/_testing.py:19: FutureWarning: pandas.util.testing is deprecated. Use the functions in the public API at pandas.testing instead.\n",
      "  import pandas.util.testing as tm\n"
     ]
    }
   ],
   "source": [
    "# Import des librairies \n",
    "import pandas as pd\n",
    "import numpy as np\n",
    "import matplotlib.pyplot as plt\n",
    "import seaborn as snshttp://www.programmersought.com/article/6198330097/"
   ]
  },
  {
   "cell_type": "code",
   "execution_count": null,
   "metadata": {
    "colab": {
     "base_uri": "https://localhost:8080/",
     "height": 72,
     "resources": {
      "http://localhost:8080/nbextensions/google.colab/files.js": {
       "data": "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",
       "headers": [
        [
         "content-type",
         "application/javascript"
        ]
       ],
       "ok": true,
       "status": 200,
       "status_text": ""
      }
     }
    },
    "colab_type": "code",
    "executionInfo": {
     "elapsed": 11903,
     "status": "ok",
     "timestamp": 1582582914072,
     "user": {
      "displayName": "Nicolas Bancel",
      "photoUrl": "https://lh3.googleusercontent.com/a-/AAuE7mAyYdzC9rOkEWeV8AYb1OSHQLnti_DLr9YJRdw1=s64",
      "userId": "03885597131387353731"
     },
     "user_tz": -60
    },
    "id": "Nh_0NtSnRTgr",
    "outputId": "7299a811-4045-476f-cb63-455b752ce55c"
   },
   "outputs": [
    {
     "data": {
      "text/html": [
       "\n",
       "     <input type=\"file\" id=\"files-6169bd17-1d58-4677-a307-ba5272114764\" name=\"files[]\" multiple disabled />\n",
       "     <output id=\"result-6169bd17-1d58-4677-a307-ba5272114764\">\n",
       "      Upload widget is only available when the cell has been executed in the\n",
       "      current browser session. Please rerun this cell to enable.\n",
       "      </output>\n",
       "      <script src=\"/nbextensions/google.colab/files.js\"></script> "
      ],
      "text/plain": [
       "<IPython.core.display.HTML object>"
      ]
     },
     "metadata": {
      "tags": []
     },
     "output_type": "display_data"
    },
    {
     "name": "stdout",
     "output_type": "stream",
     "text": [
      "Saving Social_Network_Ads.csv to Social_Network_Ads.csv\n"
     ]
    }
   ],
   "source": [
    "# Import du fichier \n",
    "from google.colab import files\n",
    "upload = files.upload()"
   ]
  },
  {
   "cell_type": "code",
   "execution_count": null,
   "metadata": {
    "colab": {},
    "colab_type": "code",
    "id": "LS-MW6o48Rqt"
   },
   "outputs": [],
   "source": [
    "dataset = pd.read_csv(\"Social_Network_Ads.csv\")"
   ]
  },
  {
   "cell_type": "code",
   "execution_count": null,
   "metadata": {
    "colab": {
     "base_uri": "https://localhost:8080/",
     "height": 198
    },
    "colab_type": "code",
    "executionInfo": {
     "elapsed": 625,
     "status": "ok",
     "timestamp": 1586886366732,
     "user": {
      "displayName": "Paul Mochkovitch",
      "photoUrl": "https://lh3.googleusercontent.com/a-/AOh14GgB58_lABQ4ByEAHWzpij5b24LDNohM6Q9ajVK7=s64",
      "userId": "15704966492254202589"
     },
     "user_tz": -120
    },
    "id": "yrPqZqAtRai_",
    "outputId": "7565405d-6e20-4517-fbf5-96e58a92994a"
   },
   "outputs": [
    {
     "data": {
      "text/html": [
       "<div>\n",
       "<style scoped>\n",
       "    .dataframe tbody tr th:only-of-type {\n",
       "        vertical-align: middle;\n",
       "    }\n",
       "\n",
       "    .dataframe tbody tr th {\n",
       "        vertical-align: top;\n",
       "    }\n",
       "\n",
       "    .dataframe thead th {\n",
       "        text-align: right;\n",
       "    }\n",
       "</style>\n",
       "<table border=\"1\" class=\"dataframe\">\n",
       "  <thead>\n",
       "    <tr style=\"text-align: right;\">\n",
       "      <th></th>\n",
       "      <th>User ID</th>\n",
       "      <th>Gender</th>\n",
       "      <th>Age</th>\n",
       "      <th>EstimatedSalary</th>\n",
       "      <th>Purchased</th>\n",
       "    </tr>\n",
       "  </thead>\n",
       "  <tbody>\n",
       "    <tr>\n",
       "      <th>0</th>\n",
       "      <td>15624510</td>\n",
       "      <td>Male</td>\n",
       "      <td>19</td>\n",
       "      <td>19000</td>\n",
       "      <td>0</td>\n",
       "    </tr>\n",
       "    <tr>\n",
       "      <th>1</th>\n",
       "      <td>15810944</td>\n",
       "      <td>Male</td>\n",
       "      <td>35</td>\n",
       "      <td>20000</td>\n",
       "      <td>0</td>\n",
       "    </tr>\n",
       "    <tr>\n",
       "      <th>2</th>\n",
       "      <td>15668575</td>\n",
       "      <td>Female</td>\n",
       "      <td>26</td>\n",
       "      <td>43000</td>\n",
       "      <td>0</td>\n",
       "    </tr>\n",
       "    <tr>\n",
       "      <th>3</th>\n",
       "      <td>15603246</td>\n",
       "      <td>Female</td>\n",
       "      <td>27</td>\n",
       "      <td>57000</td>\n",
       "      <td>0</td>\n",
       "    </tr>\n",
       "    <tr>\n",
       "      <th>4</th>\n",
       "      <td>15804002</td>\n",
       "      <td>Male</td>\n",
       "      <td>19</td>\n",
       "      <td>76000</td>\n",
       "      <td>0</td>\n",
       "    </tr>\n",
       "  </tbody>\n",
       "</table>\n",
       "</div>"
      ],
      "text/plain": [
       "    User ID  Gender  Age  EstimatedSalary  Purchased\n",
       "0  15624510    Male   19            19000          0\n",
       "1  15810944    Male   35            20000          0\n",
       "2  15668575  Female   26            43000          0\n",
       "3  15603246  Female   27            57000          0\n",
       "4  15804002    Male   19            76000          0"
      ]
     },
     "execution_count": 3,
     "metadata": {
      "tags": []
     },
     "output_type": "execute_result"
    }
   ],
   "source": [
    "# Lecture du fichier \n",
    "dataset.head()"
   ]
  },
  {
   "cell_type": "code",
   "execution_count": null,
   "metadata": {
    "colab": {
     "base_uri": "https://localhost:8080/",
     "height": 386
    },
    "colab_type": "code",
    "executionInfo": {
     "elapsed": 1000,
     "status": "ok",
     "timestamp": 1586886508163,
     "user": {
      "displayName": "Paul Mochkovitch",
      "photoUrl": "https://lh3.googleusercontent.com/a-/AOh14GgB58_lABQ4ByEAHWzpij5b24LDNohM6Q9ajVK7=s64",
      "userId": "15704966492254202589"
     },
     "user_tz": -120
    },
    "id": "pVfx8m3bUQIK",
    "outputId": "8981d410-1b99-4378-e62a-faf1e43b4a80"
   },
   "outputs": [
    {
     "data": {
      "text/plain": [
       "<seaborn.axisgrid.FacetGrid at 0x7f397db44518>"
      ]
     },
     "execution_count": 4,
     "metadata": {
      "tags": []
     },
     "output_type": "execute_result"
    },
    {
     "data": {
      "image/png": "[encoded data removed]",
      "text/plain": [
       "<Figure size 360x360 with 1 Axes>"
      ]
     },
     "metadata": {
      "needs_background": "light",
      "tags": []
     },
     "output_type": "display_data"
    }
   ],
   "source": [
    "# Visualisation exploratoire \n",
    "sns.catplot(x=\"Gender\", y=\"Purchased\", data=dataset, kind=\"bar\")"
   ]
  },
  {
   "cell_type": "code",
   "execution_count": null,
   "metadata": {
    "colab": {
     "base_uri": "https://localhost:8080/",
     "height": 386
    },
    "colab_type": "code",
    "executionInfo": {
     "elapsed": 4176,
     "status": "ok",
     "timestamp": 1586886672340,
     "user": {
      "displayName": "Paul Mochkovitch",
      "photoUrl": "https://lh3.googleusercontent.com/a-/AOh14GgB58_lABQ4ByEAHWzpij5b24LDNohM6Q9ajVK7=s64",
      "userId": "15704966492254202589"
     },
     "user_tz": -120
    },
    "id": "7tZJhaHEUbFi",
    "outputId": "de71f209-2d13-41c3-e478-22a662f3a02c"
   },
   "outputs": [
    {
     "data": {
      "text/plain": [
       "<seaborn.axisgrid.FacetGrid at 0x7f397da87240>"
      ]
     },
     "execution_count": 5,
     "metadata": {
      "tags": []
     },
     "output_type": "execute_result"
    },
    {
     "data": {
      "image/png": "[encoded data removed]",
      "text/plain": [
       "<Figure size 360x360 with 1 Axes>"
      ]
     },
     "metadata": {
      "needs_background": "light",
      "tags": []
     },
     "output_type": "display_data"
    }
   ],
   "source": [
    "sns.lmplot(x=\"EstimatedSalary\", y=\"Purchased\", data=dataset, logistic=True)"
   ]
  },
  {
   "cell_type": "code",
   "execution_count": null,
   "metadata": {
    "colab": {
     "base_uri": "https://localhost:8080/",
     "height": 121
    },
    "colab_type": "code",
    "executionInfo": {
     "elapsed": 607,
     "status": "ok",
     "timestamp": 1586886824266,
     "user": {
      "displayName": "Paul Mochkovitch",
      "photoUrl": "https://lh3.googleusercontent.com/a-/AOh14GgB58_lABQ4ByEAHWzpij5b24LDNohM6Q9ajVK7=s64",
      "userId": "15704966492254202589"
     },
     "user_tz": -120
    },
    "id": "EbP0iw8yRgqa",
    "outputId": "4dfda785-6c61-4a50-fe71-b498a210f091"
   },
   "outputs": [
    {
     "data": {
      "text/plain": [
       "User ID            False\n",
       "Gender             False\n",
       "Age                False\n",
       "EstimatedSalary    False\n",
       "Purchased          False\n",
       "dtype: bool"
      ]
     },
     "execution_count": 6,
     "metadata": {
      "tags": []
     },
     "output_type": "execute_result"
    }
   ],
   "source": [
    "# Gestion des NaN \n",
    "dataset.isnull().any()"
   ]
  },
  {
   "cell_type": "code",
   "execution_count": null,
   "metadata": {
    "colab": {
     "base_uri": "https://localhost:8080/",
     "height": 198
    },
    "colab_type": "code",
    "executionInfo": {
     "elapsed": 962,
     "status": "ok",
     "timestamp": 1586887000915,
     "user": {
      "displayName": "Paul Mochkovitch",
      "photoUrl": "https://lh3.googleusercontent.com/a-/AOh14GgB58_lABQ4ByEAHWzpij5b24LDNohM6Q9ajVK7=s64",
      "userId": "15704966492254202589"
     },
     "user_tz": -120
    },
    "id": "EcG_XQ9bRyV0",
    "outputId": "117871ff-95b0-4ad6-f213-363d6e6d1ff8"
   },
   "outputs": [
    {
     "data": {
      "text/html": [
       "<div>\n",
       "<style scoped>\n",
       "    .dataframe tbody tr th:only-of-type {\n",
       "        vertical-align: middle;\n",
       "    }\n",
       "\n",
       "    .dataframe tbody tr th {\n",
       "        vertical-align: top;\n",
       "    }\n",
       "\n",
       "    .dataframe thead th {\n",
       "        text-align: right;\n",
       "    }\n",
       "</style>\n",
       "<table border=\"1\" class=\"dataframe\">\n",
       "  <thead>\n",
       "    <tr style=\"text-align: right;\">\n",
       "      <th></th>\n",
       "      <th>Gender</th>\n",
       "      <th>Age</th>\n",
       "      <th>EstimatedSalary</th>\n",
       "      <th>Purchased</th>\n",
       "    </tr>\n",
       "  </thead>\n",
       "  <tbody>\n",
       "    <tr>\n",
       "      <th>0</th>\n",
       "      <td>Male</td>\n",
       "      <td>19</td>\n",
       "      <td>19000</td>\n",
       "      <td>0</td>\n",
       "    </tr>\n",
       "    <tr>\n",
       "      <th>1</th>\n",
       "      <td>Male</td>\n",
       "      <td>35</td>\n",
       "      <td>20000</td>\n",
       "      <td>0</td>\n",
       "    </tr>\n",
       "    <tr>\n",
       "      <th>2</th>\n",
       "      <td>Female</td>\n",
       "      <td>26</td>\n",
       "      <td>43000</td>\n",
       "      <td>0</td>\n",
       "    </tr>\n",
       "    <tr>\n",
       "      <th>3</th>\n",
       "      <td>Female</td>\n",
       "      <td>27</td>\n",
       "      <td>57000</td>\n",
       "      <td>0</td>\n",
       "    </tr>\n",
       "    <tr>\n",
       "      <th>4</th>\n",
       "      <td>Male</td>\n",
       "      <td>19</td>\n",
       "      <td>76000</td>\n",
       "      <td>0</td>\n",
       "    </tr>\n",
       "  </tbody>\n",
       "</table>\n",
       "</div>"
      ],
      "text/plain": [
       "   Gender  Age  EstimatedSalary  Purchased\n",
       "0    Male   19            19000          0\n",
       "1    Male   35            20000          0\n",
       "2  Female   26            43000          0\n",
       "3  Female   27            57000          0\n",
       "4    Male   19            76000          0"
      ]
     },
     "execution_count": 7,
     "metadata": {
      "tags": []
     },
     "output_type": "execute_result"
    }
   ],
   "source": [
    "# Enlever la colonne ID\n",
    "# dataset = dataset.iloc[:, 1:]\n",
    "dataset = dataset.drop(['User ID'], axis=1)\n",
    "dataset.head()"
   ]
  },
  {
   "cell_type": "code",
   "execution_count": null,
   "metadata": {
    "colab": {},
    "colab_type": "code",
    "id": "ne2Bn85AR6Js"
   },
   "outputs": [],
   "source": [
    "# Séparation des X & y \n",
    "# X = dataset.iloc[:, :-1]\n",
    "# y = dataset.iloc[:, -1]\n",
    "X = dataset.drop([\"Purchased\"], axis=1)\n",
    "y = dataset[\"Purchased\"]"
   ]
  },
  {
   "cell_type": "code",
   "execution_count": null,
   "metadata": {
    "colab": {
     "base_uri": "https://localhost:8080/",
     "height": 225
    },
    "colab_type": "code",
    "executionInfo": {
     "elapsed": 638,
     "status": "ok",
     "timestamp": 1586887167417,
     "user": {
      "displayName": "Paul Mochkovitch",
      "photoUrl": "https://lh3.googleusercontent.com/a-/AOh14GgB58_lABQ4ByEAHWzpij5b24LDNohM6Q9ajVK7=s64",
      "userId": "15704966492254202589"
     },
     "user_tz": -120
    },
    "id": "195_1tZYOh1r",
    "outputId": "7424d9a2-9a93-4274-cabd-ef19b0f36559"
   },
   "outputs": [
    {
     "data": {
      "text/plain": [
       "0      0\n",
       "1      0\n",
       "2      0\n",
       "3      0\n",
       "4      0\n",
       "      ..\n",
       "395    1\n",
       "396    1\n",
       "397    1\n",
       "398    0\n",
       "399    1\n",
       "Name: Purchased, Length: 400, dtype: int64"
      ]
     },
     "execution_count": 9,
     "metadata": {
      "tags": []
     },
     "output_type": "execute_result"
    }
   ],
   "source": [
    "y"
   ]
  },
  {
   "cell_type": "code",
   "execution_count": null,
   "metadata": {
    "colab": {
     "base_uri": "https://localhost:8080/",
     "height": 407
    },
    "colab_type": "code",
    "executionInfo": {
     "elapsed": 892,
     "status": "ok",
     "timestamp": 1586887338152,
     "user": {
      "displayName": "Paul Mochkovitch",
      "photoUrl": "https://lh3.googleusercontent.com/a-/AOh14GgB58_lABQ4ByEAHWzpij5b24LDNohM6Q9ajVK7=s64",
      "userId": "15704966492254202589"
     },
     "user_tz": -120
    },
    "id": "zQLGSC9C9tVf",
    "outputId": "4566b527-8aee-4d1a-dfc5-79ffc884dfdd"
   },
   "outputs": [
    {
     "data": {
      "text/html": [
       "<div>\n",
       "<style scoped>\n",
       "    .dataframe tbody tr th:only-of-type {\n",
       "        vertical-align: middle;\n",
       "    }\n",
       "\n",
       "    .dataframe tbody tr th {\n",
       "        vertical-align: top;\n",
       "    }\n",
       "\n",
       "    .dataframe thead th {\n",
       "        text-align: right;\n",
       "    }\n",
       "</style>\n",
       "<table border=\"1\" class=\"dataframe\">\n",
       "  <thead>\n",
       "    <tr style=\"text-align: right;\">\n",
       "      <th></th>\n",
       "      <th>Gender</th>\n",
       "      <th>Age</th>\n",
       "      <th>EstimatedSalary</th>\n",
       "    </tr>\n",
       "  </thead>\n",
       "  <tbody>\n",
       "    <tr>\n",
       "      <th>0</th>\n",
       "      <td>Male</td>\n",
       "      <td>19</td>\n",
       "      <td>19000</td>\n",
       "    </tr>\n",
       "    <tr>\n",
       "      <th>1</th>\n",
       "      <td>Male</td>\n",
       "      <td>35</td>\n",
       "      <td>20000</td>\n",
       "    </tr>\n",
       "    <tr>\n",
       "      <th>2</th>\n",
       "      <td>Female</td>\n",
       "      <td>26</td>\n",
       "      <td>43000</td>\n",
       "    </tr>\n",
       "    <tr>\n",
       "      <th>3</th>\n",
       "      <td>Female</td>\n",
       "      <td>27</td>\n",
       "      <td>57000</td>\n",
       "    </tr>\n",
       "    <tr>\n",
       "      <th>4</th>\n",
       "      <td>Male</td>\n",
       "      <td>19</td>\n",
       "      <td>76000</td>\n",
       "    </tr>\n",
       "    <tr>\n",
       "      <th>...</th>\n",
       "      <td>...</td>\n",
       "      <td>...</td>\n",
       "      <td>...</td>\n",
       "    </tr>\n",
       "    <tr>\n",
       "      <th>395</th>\n",
       "      <td>Female</td>\n",
       "      <td>46</td>\n",
       "      <td>41000</td>\n",
       "    </tr>\n",
       "    <tr>\n",
       "      <th>396</th>\n",
       "      <td>Male</td>\n",
       "      <td>51</td>\n",
       "      <td>23000</td>\n",
       "    </tr>\n",
       "    <tr>\n",
       "      <th>397</th>\n",
       "      <td>Female</td>\n",
       "      <td>50</td>\n",
       "      <td>20000</td>\n",
       "    </tr>\n",
       "    <tr>\n",
       "      <th>398</th>\n",
       "      <td>Male</td>\n",
       "      <td>36</td>\n",
       "      <td>33000</td>\n",
       "    </tr>\n",
       "    <tr>\n",
       "      <th>399</th>\n",
       "      <td>Female</td>\n",
       "      <td>49</td>\n",
       "      <td>36000</td>\n",
       "    </tr>\n",
       "  </tbody>\n",
       "</table>\n",
       "<p>400 rows × 3 columns</p>\n",
       "</div>"
      ],
      "text/plain": [
       "     Gender  Age  EstimatedSalary\n",
       "0      Male   19            19000\n",
       "1      Male   35            20000\n",
       "2    Female   26            43000\n",
       "3    Female   27            57000\n",
       "4      Male   19            76000\n",
       "..      ...  ...              ...\n",
       "395  Female   46            41000\n",
       "396    Male   51            23000\n",
       "397  Female   50            20000\n",
       "398    Male   36            33000\n",
       "399  Female   49            36000\n",
       "\n",
       "[400 rows x 3 columns]"
      ]
     },
     "execution_count": 15,
     "metadata": {
      "tags": []
     },
     "output_type": "execute_result"
    }
   ],
   "source": [
    "X"
   ]
  },
  {
   "cell_type": "code",
   "execution_count": null,
   "metadata": {
    "colab": {
     "base_uri": "https://localhost:8080/",
     "height": 198
    },
    "colab_type": "code",
    "executionInfo": {
     "elapsed": 962,
     "status": "ok",
     "timestamp": 1586887425145,
     "user": {
      "displayName": "Paul Mochkovitch",
      "photoUrl": "https://lh3.googleusercontent.com/a-/AOh14GgB58_lABQ4ByEAHWzpij5b24LDNohM6Q9ajVK7=s64",
      "userId": "15704966492254202589"
     },
     "user_tz": -120
    },
    "id": "kIzFwy7lSBBF",
    "outputId": "c04f7476-3cf2-47d4-9ef6-c438bda15316"
   },
   "outputs": [
    {
     "data": {
      "text/html": [
       "<div>\n",
       "<style scoped>\n",
       "    .dataframe tbody tr th:only-of-type {\n",
       "        vertical-align: middle;\n",
       "    }\n",
       "\n",
       "    .dataframe tbody tr th {\n",
       "        vertical-align: top;\n",
       "    }\n",
       "\n",
       "    .dataframe thead th {\n",
       "        text-align: right;\n",
       "    }\n",
       "</style>\n",
       "<table border=\"1\" class=\"dataframe\">\n",
       "  <thead>\n",
       "    <tr style=\"text-align: right;\">\n",
       "      <th></th>\n",
       "      <th>Age</th>\n",
       "      <th>EstimatedSalary</th>\n",
       "      <th>Gender_Male</th>\n",
       "    </tr>\n",
       "  </thead>\n",
       "  <tbody>\n",
       "    <tr>\n",
       "      <th>0</th>\n",
       "      <td>19</td>\n",
       "      <td>19000</td>\n",
       "      <td>1</td>\n",
       "    </tr>\n",
       "    <tr>\n",
       "      <th>1</th>\n",
       "      <td>35</td>\n",
       "      <td>20000</td>\n",
       "      <td>1</td>\n",
       "    </tr>\n",
       "    <tr>\n",
       "      <th>2</th>\n",
       "      <td>26</td>\n",
       "      <td>43000</td>\n",
       "      <td>0</td>\n",
       "    </tr>\n",
       "    <tr>\n",
       "      <th>3</th>\n",
       "      <td>27</td>\n",
       "      <td>57000</td>\n",
       "      <td>0</td>\n",
       "    </tr>\n",
       "    <tr>\n",
       "      <th>4</th>\n",
       "      <td>19</td>\n",
       "      <td>76000</td>\n",
       "      <td>1</td>\n",
       "    </tr>\n",
       "  </tbody>\n",
       "</table>\n",
       "</div>"
      ],
      "text/plain": [
       "   Age  EstimatedSalary  Gender_Male\n",
       "0   19            19000            1\n",
       "1   35            20000            1\n",
       "2   26            43000            0\n",
       "3   27            57000            0\n",
       "4   19            76000            1"
      ]
     },
     "execution_count": 17,
     "metadata": {
      "tags": []
     },
     "output_type": "execute_result"
    }
   ],
   "source": [
    "# Dummyfication \n",
    "X = pd.get_dummies(X, drop_first=True)\n",
    "X.head()"
   ]
  },
  {
   "cell_type": "code",
   "execution_count": null,
   "metadata": {
    "colab": {},
    "colab_type": "code",
    "id": "LozYyiQ1SCZw"
   },
   "outputs": [],
   "source": [
    "# Feature Scaling \n",
    "from sklearn.preprocessing import StandardScaler\n",
    "\n",
    "sc_x = StandardScaler()\n",
    "X = sc_x.fit_transform(X)"
   ]
  },
  {
   "cell_type": "code",
   "execution_count": null,
   "metadata": {
    "colab": {},
    "colab_type": "code",
    "id": "5XI5vLxSSeXG"
   },
   "outputs": [],
   "source": [
    "# Train_test_split\n",
    "from sklearn.model_selection import train_test_split\n",
    "\n",
    "X_train, X_test, y_train, y_test = train_test_split(X, \n",
    "                                                    y,\n",
    "                                                    test_size=0.2)"
   ]
  },
  {
   "cell_type": "code",
   "execution_count": null,
   "metadata": {
    "colab": {
     "base_uri": "https://localhost:8080/",
     "height": 1000
    },
    "colab_type": "code",
    "executionInfo": {
     "elapsed": 671,
     "status": "ok",
     "timestamp": 1586887542384,
     "user": {
      "displayName": "Paul Mochkovitch",
      "photoUrl": "https://lh3.googleusercontent.com/a-/AOh14GgB58_lABQ4ByEAHWzpij5b24LDNohM6Q9ajVK7=s64",
      "userId": "15704966492254202589"
     },
     "user_tz": -120
    },
    "id": "DtC3pASrSn69",
    "outputId": "8bcc18b0-3720-4d0c-83d9-271bce060ef7"
   },
   "outputs": [
    {
     "data": {
      "text/plain": [
       "array([[-0.15807423,  0.15438573, -0.98019606],\n",
       "       [-0.15807423,  1.62262856,  1.02020406],\n",
       "       [-0.44461362, -0.28608712, -0.98019606],\n",
       "       [-0.15807423, -0.52100597,  1.02020406],\n",
       "       [ 0.41500455,  0.00756145, -0.98019606],\n",
       "       [-1.11320552, -1.60750566,  1.02020406],\n",
       "       [ 1.46564897,  2.15119598, -0.98019606],\n",
       "       [-0.73115301,  1.09406114,  1.02020406],\n",
       "       [-1.30423178,  0.56549373, -0.98019606],\n",
       "       [-0.25358736,  0.80041258, -0.98019606],\n",
       "       [ 0.22397829, -0.31545197,  1.02020406],\n",
       "       [-1.11320552,  0.41866944, -0.98019606],\n",
       "       [ 1.27462271,  1.88691227, -0.98019606],\n",
       "       [-0.92217926,  0.56549373,  1.02020406],\n",
       "       [ 0.98808332,  1.7988177 , -0.98019606],\n",
       "       [ 0.79705706, -1.40195167, -0.98019606],\n",
       "       [-1.87731056,  0.35993973,  1.02020406],\n",
       "       [ 1.94321462,  0.917872  , -0.98019606],\n",
       "       [ 1.27462271, -1.37258681,  1.02020406],\n",
       "       [ 0.79705706,  0.53612887,  1.02020406],\n",
       "       [-1.78179743,  0.4480343 ,  1.02020406],\n",
       "       [-0.44461362,  2.32738512, -0.98019606],\n",
       "       [-1.01769239,  0.41866944, -0.98019606],\n",
       "       [ 0.41500455,  2.32738512,  1.02020406],\n",
       "       [-0.25358736,  0.62422344,  1.02020406],\n",
       "       [-0.92217926, -0.75592482, -0.98019606],\n",
       "       [ 0.89257019, -0.57973568, -0.98019606],\n",
       "       [-1.6862843 ,  0.35993973, -0.98019606],\n",
       "       [-0.25358736, -0.75592482, -0.98019606],\n",
       "       [-1.6862843 ,  0.35993973, -0.98019606],\n",
       "       [-0.25358736,  0.06629116, -0.98019606],\n",
       "       [ 0.31949142,  0.06629116, -0.98019606],\n",
       "       [-0.63563988,  0.56549373, -0.98019606],\n",
       "       [-1.20871865,  0.50676401,  1.02020406],\n",
       "       [-1.11320552, -1.5781408 ,  1.02020406],\n",
       "       [ 0.03295203, -0.4329114 , -0.98019606],\n",
       "       [ 0.41500455, -0.46227625,  1.02020406],\n",
       "       [-1.11320552, -1.16703281,  1.02020406],\n",
       "       [-0.54012675,  0.47739916, -0.98019606],\n",
       "       [ 1.37013584, -0.93211396, -0.98019606],\n",
       "       [-0.82666613, -1.22576253, -0.98019606],\n",
       "       [-0.34910049, -0.78528968,  1.02020406],\n",
       "       [ 2.03872775,  0.53612887, -0.98019606],\n",
       "       [-1.30423178, -1.1083031 , -0.98019606],\n",
       "       [ 0.98808332, -1.02020853, -0.98019606],\n",
       "       [ 0.41500455,  1.00596657,  1.02020406],\n",
       "       [-0.82666613,  0.38930459, -0.98019606],\n",
       "       [ 0.89257019,  1.27025028, -0.98019606],\n",
       "       [-0.0625611 ,  2.18056084,  1.02020406],\n",
       "       [ 0.31949142, -0.52100597,  1.02020406],\n",
       "       [-0.0625611 ,  1.97500684, -0.98019606],\n",
       "       [ 1.46564897,  0.35993973, -0.98019606],\n",
       "       [ 0.79705706,  0.27184516,  1.02020406],\n",
       "       [-0.25358736,  0.21311545, -0.98019606],\n",
       "       [-0.0625611 ,  0.68295315, -0.98019606],\n",
       "       [ 1.75218836, -0.28608712,  1.02020406],\n",
       "       [ 1.65667523,  1.76945285, -0.98019606],\n",
       "       [-1.01769239,  0.77104772, -0.98019606],\n",
       "       [-1.30423178,  0.41866944,  1.02020406],\n",
       "       [ 1.46564897,  0.06629116,  1.02020406],\n",
       "       [ 0.79705706, -0.84401939, -0.98019606],\n",
       "       [ 0.31949142,  0.03692631, -0.98019606],\n",
       "       [-0.25358736,  0.15438573,  1.02020406],\n",
       "       [-0.92217926,  0.41866944, -0.98019606],\n",
       "       [ 0.79705706,  0.77104772, -0.98019606],\n",
       "       [ 1.37013584,  1.29961514, -0.98019606],\n",
       "       [ 0.22397829,  2.12183112, -0.98019606],\n",
       "       [-0.82666613,  2.29802026,  1.02020406],\n",
       "       [ 1.17910958,  0.53612887, -0.98019606],\n",
       "       [-0.25358736, -1.40195167,  1.02020406],\n",
       "       [ 0.03295203, -0.57973568, -0.98019606],\n",
       "       [-0.63563988,  0.18375059,  1.02020406],\n",
       "       [ 1.84770149, -1.28449224, -0.98019606],\n",
       "       [ 0.12846516, -0.25672226, -0.98019606],\n",
       "       [ 1.37013584,  0.59485858, -0.98019606],\n",
       "       [ 0.03295203,  1.24088543, -0.98019606],\n",
       "       [-0.54012675,  1.38770971, -0.98019606],\n",
       "       [ 0.03295203, -0.13926283, -0.98019606],\n",
       "       [-0.44461362, -1.13766796,  1.02020406],\n",
       "       [-0.15807423, -0.19799255, -0.98019606],\n",
       "       [-0.0625611 , -1.07893824, -0.98019606],\n",
       "       [-1.11320552, -0.52100597, -0.98019606],\n",
       "       [ 0.12846516,  1.88691227,  1.02020406],\n",
       "       [-0.0625611 ,  0.21311545,  1.02020406],\n",
       "       [-0.82666613,  0.15438573,  1.02020406],\n",
       "       [ 0.22397829, -0.37418169,  1.02020406],\n",
       "       [-1.11320552,  0.33057487,  1.02020406],\n",
       "       [-1.49525804, -1.51941109,  1.02020406],\n",
       "       [-0.25358736,  0.03692631, -0.98019606],\n",
       "       [-1.01769239, -0.34481683,  1.02020406],\n",
       "       [-0.25358736, -0.28608712, -0.98019606],\n",
       "       [ 0.89257019, -0.55037082, -0.98019606],\n",
       "       [ 0.89257019, -0.78528968,  1.02020406],\n",
       "       [ 0.12846516,  1.53453399,  1.02020406],\n",
       "       [ 2.03872775,  1.76945285,  1.02020406],\n",
       "       [ 0.89257019,  1.09406114, -0.98019606],\n",
       "       [-1.6862843 ,  0.12502088,  1.02020406],\n",
       "       [ 0.41500455,  0.09565602,  1.02020406],\n",
       "       [-0.44461362, -0.84401939, -0.98019606],\n",
       "       [ 0.03295203, -0.57973568, -0.98019606],\n",
       "       [-0.63563988, -1.60750566, -0.98019606],\n",
       "       [-0.63563988, -0.10989798,  1.02020406],\n",
       "       [ 0.12846516,  0.77104772,  1.02020406],\n",
       "       [ 0.12846516, -0.81465453,  1.02020406],\n",
       "       [-0.63563988, -1.51941109,  1.02020406],\n",
       "       [ 0.31949142, -0.55037082, -0.98019606],\n",
       "       [-1.39974491, -0.63846539, -0.98019606],\n",
       "       [ 0.41500455,  0.27184516, -0.98019606],\n",
       "       [ 0.79705706, -1.1083031 , -0.98019606],\n",
       "       [-1.39974491,  0.35993973, -0.98019606],\n",
       "       [-0.73115301, -1.60750566,  1.02020406],\n",
       "       [-0.73115301,  1.91627713,  1.02020406],\n",
       "       [ 0.03295203, -0.25672226,  1.02020406],\n",
       "       [ 0.60603081,  2.03373655, -0.98019606],\n",
       "       [ 2.03872775,  2.15119598,  1.02020406],\n",
       "       [-0.25358736, -1.46068138,  1.02020406],\n",
       "       [ 0.70154394, -0.72655996, -0.98019606],\n",
       "       [ 1.08359645,  2.09246627, -0.98019606],\n",
       "       [-0.73115301,  0.30121002,  1.02020406],\n",
       "       [-0.54012675,  1.38770971, -0.98019606],\n",
       "       [ 1.5611621 ,  0.00756145,  1.02020406],\n",
       "       [ 1.94321462, -0.93211396, -0.98019606],\n",
       "       [ 1.08359645, -1.22576253,  1.02020406],\n",
       "       [-0.15807423, -0.28608712,  1.02020406],\n",
       "       [ 1.84770149, -0.28608712,  1.02020406],\n",
       "       [-1.39974491, -1.46068138,  1.02020406],\n",
       "       [ 1.08359645,  0.56549373,  1.02020406],\n",
       "       [-0.44461362, -0.55037082, -0.98019606],\n",
       "       [ 0.70154394, -1.40195167, -0.98019606],\n",
       "       [-1.11320552, -1.60750566, -0.98019606],\n",
       "       [-0.15807423, -1.07893824,  1.02020406],\n",
       "       [-1.87731056,  0.47739916, -0.98019606],\n",
       "       [ 0.31949142,  0.27184516,  1.02020406],\n",
       "       [ 0.12846516,  1.88691227, -0.98019606],\n",
       "       [ 0.22397829,  1.09406114,  1.02020406],\n",
       "       [-1.11320552, -1.54877595, -0.98019606],\n",
       "       [ 0.03295203, -0.55037082,  1.02020406],\n",
       "       [ 0.03295203,  0.30121002, -0.98019606],\n",
       "       [-1.20871865,  0.59485858,  1.02020406],\n",
       "       [ 0.98808332,  0.12502088,  1.02020406],\n",
       "       [ 1.08359645,  0.12502088,  1.02020406],\n",
       "       [-1.78179743, -1.43131652, -0.98019606],\n",
       "       [ 0.79705706,  0.12502088, -0.98019606],\n",
       "       [ 0.22397829,  0.15438573, -0.98019606],\n",
       "       [ 0.31949142,  0.50676401,  1.02020406],\n",
       "       [-1.30423178, -1.49004624,  1.02020406],\n",
       "       [-0.44461362,  1.27025028, -0.98019606],\n",
       "       [-0.63563988,  1.41707457, -0.98019606],\n",
       "       [-0.92217926,  1.56389885,  1.02020406],\n",
       "       [ 2.13424088, -0.69719511, -0.98019606],\n",
       "       [-0.54012675,  1.91627713, -0.98019606],\n",
       "       [-1.11320552,  0.30121002, -0.98019606],\n",
       "       [-0.63563988,  0.12502088,  1.02020406],\n",
       "       [-1.01769239,  0.59485858,  1.02020406],\n",
       "       [-1.6862843 , -1.37258681, -0.98019606],\n",
       "       [ 0.98808332, -1.19639767, -0.98019606],\n",
       "       [-1.59077117, -1.5781408 , -0.98019606],\n",
       "       [ 0.98808332, -1.07893824,  1.02020406],\n",
       "       [ 0.89257019, -0.60910054, -0.98019606],\n",
       "       [ 1.17910958, -1.46068138, -0.98019606],\n",
       "       [-0.73115301,  0.27184516, -0.98019606],\n",
       "       [-0.82666613, -0.25672226,  1.02020406],\n",
       "       [-1.78179743, -1.3138571 ,  1.02020406],\n",
       "       [-1.39974491, -0.10989798, -0.98019606],\n",
       "       [-0.25358736, -0.37418169, -0.98019606],\n",
       "       [-0.34910049,  0.06629116, -0.98019606],\n",
       "       [ 0.70154394,  0.27184516,  1.02020406],\n",
       "       [ 1.37013584,  2.0043717 , -0.98019606],\n",
       "       [ 0.31949142, -1.16703281, -0.98019606],\n",
       "       [ 0.41500455,  0.15438573, -0.98019606],\n",
       "       [ 0.12846516,  0.15438573, -0.98019606],\n",
       "       [ 1.5611621 ,  1.123426  , -0.98019606],\n",
       "       [-0.25358736,  0.09565602,  1.02020406],\n",
       "       [-0.63563988, -0.05116826, -0.98019606],\n",
       "       [-0.73115301,  0.56549373,  1.02020406],\n",
       "       [ 0.89257019,  2.18056084, -0.98019606],\n",
       "       [-0.34910049, -1.3138571 , -0.98019606],\n",
       "       [ 0.22397829,  0.15438573,  1.02020406],\n",
       "       [-0.25358736, -0.93211396,  1.02020406],\n",
       "       [-0.73115301, -0.2273574 , -0.98019606],\n",
       "       [-1.01769239,  0.56549373,  1.02020406],\n",
       "       [-0.92217926,  0.4480343 , -0.98019606],\n",
       "       [ 0.22397829,  0.06629116, -0.98019606],\n",
       "       [ 1.65667523, -0.9027491 ,  1.02020406],\n",
       "       [-0.73115301,  1.35834485, -0.98019606],\n",
       "       [ 0.31949142,  0.06629116,  1.02020406],\n",
       "       [-1.01769239, -1.46068138,  1.02020406],\n",
       "       [ 0.31949142,  0.06629116, -0.98019606],\n",
       "       [-0.0625611 , -0.49164111,  1.02020406],\n",
       "       [ 1.08359645,  0.47739916,  1.02020406],\n",
       "       [-1.11320552, -0.78528968, -0.98019606],\n",
       "       [ 0.98808332,  1.88691227, -0.98019606],\n",
       "       [-1.30423178, -0.4329114 , -0.98019606],\n",
       "       [ 0.31949142, -0.31545197,  1.02020406],\n",
       "       [ 0.89257019, -1.04957339,  1.02020406],\n",
       "       [-0.15807423, -0.46227625, -0.98019606],\n",
       "       [ 2.13424088, -0.81465453,  1.02020406],\n",
       "       [-0.0625611 , -0.37418169, -0.98019606],\n",
       "       [ 0.89257019,  1.03533143,  1.02020406],\n",
       "       [-0.15807423, -0.57973568, -0.98019606],\n",
       "       [-0.15807423,  0.85914229,  1.02020406],\n",
       "       [ 0.03295203,  1.27025028, -0.98019606],\n",
       "       [ 0.03295203, -0.25672226,  1.02020406],\n",
       "       [ 0.41500455,  0.59485858, -0.98019606],\n",
       "       [-0.73115301, -0.60910054,  1.02020406],\n",
       "       [-0.92217926, -0.4329114 , -0.98019606],\n",
       "       [ 1.37013584,  2.35674998,  1.02020406],\n",
       "       [-0.63563988, -1.04957339, -0.98019606],\n",
       "       [ 2.13424088, -0.81465453,  1.02020406],\n",
       "       [ 2.13424088, -1.04957339,  1.02020406],\n",
       "       [-0.0625611 ,  0.30121002, -0.98019606],\n",
       "       [ 2.13424088,  0.38930459,  1.02020406],\n",
       "       [ 0.51051768,  1.24088543, -0.98019606],\n",
       "       [-0.34910049,  1.32898   ,  1.02020406],\n",
       "       [-1.6862843 , -0.60910054,  1.02020406],\n",
       "       [-1.49525804,  0.33057487,  1.02020406],\n",
       "       [-0.92217926, -0.96147882, -0.98019606],\n",
       "       [-0.63563988, -0.34481683,  1.02020406],\n",
       "       [ 0.79705706,  1.38770971,  1.02020406],\n",
       "       [ 0.98808332, -1.07893824,  1.02020406],\n",
       "       [ 1.27462271,  2.23929055, -0.98019606],\n",
       "       [-0.82666613,  0.30121002,  1.02020406],\n",
       "       [-1.11320552,  1.41707457, -0.98019606],\n",
       "       [ 0.41500455, -0.46227625,  1.02020406],\n",
       "       [-0.44461362, -0.02180341, -0.98019606],\n",
       "       [ 1.84770149, -1.07893824, -0.98019606],\n",
       "       [ 0.31949142,  0.06629116, -0.98019606],\n",
       "       [ 0.41500455, -0.49164111, -0.98019606],\n",
       "       [ 0.79705706,  0.35993973, -0.98019606],\n",
       "       [-0.25358736,  0.53612887,  1.02020406],\n",
       "       [ 0.98808332,  2.09246627,  1.02020406],\n",
       "       [ 0.41500455, -0.13926283,  1.02020406],\n",
       "       [-0.82666613, -0.78528968,  1.02020406],\n",
       "       [-1.78179743,  0.18375059,  1.02020406],\n",
       "       [-0.63563988,  0.03692631, -0.98019606],\n",
       "       [ 0.12846516, -0.31545197, -0.98019606],\n",
       "       [-0.0625611 , -0.2273574 , -0.98019606],\n",
       "       [-1.01769239, -1.54877595, -0.98019606],\n",
       "       [ 0.79705706, -1.37258681,  1.02020406],\n",
       "       [ 0.22397829,  0.03692631,  1.02020406],\n",
       "       [ 1.5611621 ,  1.00596657, -0.98019606],\n",
       "       [-1.87731056, -0.52100597,  1.02020406],\n",
       "       [ 2.03872775,  0.38930459, -0.98019606],\n",
       "       [-0.0625611 ,  0.00756145,  1.02020406],\n",
       "       [ 1.17910958, -0.99084367, -0.98019606],\n",
       "       [ 0.89257019, -1.16703281, -0.98019606],\n",
       "       [ 0.22397829, -0.25672226,  1.02020406],\n",
       "       [ 0.70154394,  1.7988177 , -0.98019606],\n",
       "       [ 0.70154394, -1.40195167,  1.02020406],\n",
       "       [ 0.51051768,  1.74008799,  1.02020406],\n",
       "       [ 0.98808332,  0.77104772, -0.98019606],\n",
       "       [-0.25358736,  0.27184516,  1.02020406],\n",
       "       [ 0.98808332,  2.0043717 , -0.98019606],\n",
       "       [ 0.12846516,  0.03692631,  1.02020406],\n",
       "       [-0.25358736, -0.57973568, -0.98019606],\n",
       "       [-1.01769239, -1.13766796, -0.98019606],\n",
       "       [-0.25358736, -0.57973568,  1.02020406],\n",
       "       [ 0.60603081, -0.9027491 , -0.98019606],\n",
       "       [-0.0625611 ,  0.30121002, -0.98019606],\n",
       "       [ 1.08359645, -0.99084367, -0.98019606],\n",
       "       [ 2.03872775, -1.19639767, -0.98019606],\n",
       "       [ 0.12846516,  1.06469629,  1.02020406],\n",
       "       [-0.82666613,  0.38930459, -0.98019606],\n",
       "       [-0.0625611 ,  0.15438573,  1.02020406],\n",
       "       [ 0.22397829, -0.13926283,  1.02020406],\n",
       "       [-0.82666613, -0.66783025, -0.98019606],\n",
       "       [ 0.12846516, -0.81465453,  1.02020406],\n",
       "       [-1.30423178, -1.37258681,  1.02020406],\n",
       "       [ 0.98808332, -1.16703281, -0.98019606],\n",
       "       [-1.59077117,  0.53612887,  1.02020406],\n",
       "       [-1.49525804, -0.4329114 , -0.98019606],\n",
       "       [-0.0625611 ,  0.06629116,  1.02020406],\n",
       "       [ 1.5611621 , -1.28449224, -0.98019606],\n",
       "       [ 0.31949142,  0.30121002, -0.98019606],\n",
       "       [-0.54012675,  0.88850715,  1.02020406],\n",
       "       [ 0.12846516,  0.21311545,  1.02020406],\n",
       "       [ 0.70154394, -1.28449224,  1.02020406],\n",
       "       [-0.25358736,  0.06629116,  1.02020406],\n",
       "       [ 0.98808332,  0.59485858,  1.02020406],\n",
       "       [-1.20871865,  0.30121002,  1.02020406],\n",
       "       [-1.30423178, -0.4329114 ,  1.02020406],\n",
       "       [ 0.03295203, -0.31545197,  1.02020406],\n",
       "       [-0.0625611 , -0.4329114 ,  1.02020406],\n",
       "       [-1.59077117,  0.06629116,  1.02020406],\n",
       "       [ 1.46564897,  1.00596657, -0.98019606],\n",
       "       [-0.44461362, -0.78528968,  1.02020406],\n",
       "       [-1.11320552,  0.06629116, -0.98019606],\n",
       "       [-1.20871865, -1.40195167,  1.02020406],\n",
       "       [ 0.22397829, -0.28608712, -0.98019606],\n",
       "       [ 1.94321462,  2.18056084,  1.02020406],\n",
       "       [ 2.03872775,  0.18375059, -0.98019606],\n",
       "       [ 1.08359645, -1.22576253,  1.02020406],\n",
       "       [-1.49525804, -1.25512738, -0.98019606],\n",
       "       [ 1.08359645, -0.13926283,  1.02020406],\n",
       "       [ 1.84770149,  0.12502088,  1.02020406],\n",
       "       [-0.25358736, -0.4329114 ,  1.02020406],\n",
       "       [ 0.89257019, -1.3138571 ,  1.02020406],\n",
       "       [ 0.89257019, -1.46068138,  1.02020406],\n",
       "       [ 0.41500455,  0.30121002, -0.98019606],\n",
       "       [-0.25358736, -0.49164111,  1.02020406],\n",
       "       [-1.11320552, -1.1083031 ,  1.02020406],\n",
       "       [ 0.89257019, -1.37258681,  1.02020406],\n",
       "       [ 1.94321462, -1.37258681, -0.98019606],\n",
       "       [-0.73115301, -1.54877595,  1.02020406],\n",
       "       [-0.25358736,  2.26865541, -0.98019606],\n",
       "       [-1.87731056, -0.75592482, -0.98019606],\n",
       "       [ 1.65667523,  1.62262856, -0.98019606],\n",
       "       [-0.25358736, -0.66783025, -0.98019606],\n",
       "       [ 0.79705706, -0.31545197,  1.02020406],\n",
       "       [-1.30423178, -0.34481683,  1.02020406],\n",
       "       [-0.54012675,  2.35674998, -0.98019606],\n",
       "       [ 0.22397829, -0.66783025,  1.02020406],\n",
       "       [ 2.13424088,  0.94723686,  1.02020406],\n",
       "       [-1.01769239,  1.97500684, -0.98019606],\n",
       "       [-0.92217926, -1.1083031 ,  1.02020406],\n",
       "       [ 1.08359645, -0.9027491 , -0.98019606],\n",
       "       [-0.0625611 ,  0.27184516,  1.02020406],\n",
       "       [-1.01769239, -0.46227625, -0.98019606],\n",
       "       [-0.15807423,  1.41707457,  1.02020406],\n",
       "       [-0.25358736, -0.34481683,  1.02020406]])"
      ]
     },
     "execution_count": 21,
     "metadata": {
      "tags": []
     },
     "output_type": "execute_result"
    }
   ],
   "source": [
    "X_train"
   ]
  },
  {
   "cell_type": "code",
   "execution_count": null,
   "metadata": {
    "colab": {
     "base_uri": "https://localhost:8080/",
     "height": 104
    },
    "colab_type": "code",
    "executionInfo": {
     "elapsed": 609,
     "status": "ok",
     "timestamp": 1586887734975,
     "user": {
      "displayName": "Paul Mochkovitch",
      "photoUrl": "https://lh3.googleusercontent.com/a-/AOh14GgB58_lABQ4ByEAHWzpij5b24LDNohM6Q9ajVK7=s64",
      "userId": "15704966492254202589"
     },
     "user_tz": -120
    },
    "id": "43ON55BjSUuX",
    "outputId": "0283f8a1-cd45-49be-92aa-bfed1a5abfd2"
   },
   "outputs": [
    {
     "data": {
      "text/plain": [
       "LogisticRegression(C=1.0, class_weight=None, dual=False, fit_intercept=True,\n",
       "                   intercept_scaling=1, l1_ratio=None, max_iter=100,\n",
       "                   multi_class='auto', n_jobs=None, penalty='l2',\n",
       "                   random_state=None, solver='lbfgs', tol=0.0001, verbose=0,\n",
       "                   warm_start=False)"
      ]
     },
     "execution_count": 24,
     "metadata": {
      "tags": []
     },
     "output_type": "execute_result"
    }
   ],
   "source": [
    "# Application du modèle \n",
    "from sklearn.linear_model import LogisticRegression\n",
    "\n",
    "classifier = LogisticRegression()\n",
    "classifier.fit(X_train, y_train)"
   ]
  },
  {
   "cell_type": "code",
   "execution_count": null,
   "metadata": {
    "colab": {
     "base_uri": "https://localhost:8080/",
     "height": 52
    },
    "colab_type": "code",
    "executionInfo": {
     "elapsed": 589,
     "status": "ok",
     "timestamp": 1586887763935,
     "user": {
      "displayName": "Paul Mochkovitch",
      "photoUrl": "https://lh3.googleusercontent.com/a-/AOh14GgB58_lABQ4ByEAHWzpij5b24LDNohM6Q9ajVK7=s64",
      "userId": "15704966492254202589"
     },
     "user_tz": -120
    },
    "id": "mJ6rXGPnSoWB",
    "outputId": "56e14d4b-3c40-44f2-ad35-313010bacbc1"
   },
   "outputs": [
    {
     "name": "stdout",
     "output_type": "stream",
     "text": [
      "Train score : 0.85\n",
      "Test score : 0.875\n"
     ]
    }
   ],
   "source": [
    "# Evaluation du modèle \n",
    "print(\"Train score : {}\".format(classifier.score(X_train, y_train)))\n",
    "print(\"Test score : {}\".format(classifier.score(X_test, y_test)))"
   ]
  },
  {
   "cell_type": "markdown",
   "metadata": {
    "colab_type": "text",
    "id": "_ryz_6jjS5La"
   },
   "source": [
    "--> On a de l'underfitting, dû au peu de données qu'on a dans le test "
   ]
  },
  {
   "cell_type": "code",
   "execution_count": null,
   "metadata": {
    "colab": {
     "base_uri": "https://localhost:8080/",
     "height": 86
    },
    "colab_type": "code",
    "executionInfo": {
     "elapsed": 704,
     "status": "ok",
     "timestamp": 1586888064209,
     "user": {
      "displayName": "Paul Mochkovitch",
      "photoUrl": "https://lh3.googleusercontent.com/a-/AOh14GgB58_lABQ4ByEAHWzpij5b24LDNohM6Q9ajVK7=s64",
      "userId": "15704966492254202589"
     },
     "user_tz": -120
    },
    "id": "hBUg7HmmU9VP",
    "outputId": "c629d597-45a5-4c11-fe89-49236d210985"
   },
   "outputs": [
    {
     "data": {
      "text/plain": [
       "array([0, 0, 1, 1, 0, 0, 0, 0, 1, 0, 0, 0, 0, 0, 0, 0, 0, 0, 0, 0, 0, 1,\n",
       "       0, 0, 0, 0, 0, 1, 0, 0, 0, 1, 0, 0, 1, 1, 0, 0, 0, 1, 1, 0, 0, 0,\n",
       "       0, 0, 0, 0, 0, 1, 0, 0, 1, 1, 1, 0, 1, 0, 0, 1, 1, 0, 1, 0, 0, 0,\n",
       "       0, 0, 0, 0, 0, 0, 0, 0, 1, 0, 0, 0, 1, 0])"
      ]
     },
     "execution_count": 29,
     "metadata": {
      "tags": []
     },
     "output_type": "execute_result"
    }
   ],
   "source": [
    "classifier.predict_proba(X_test)"
   ]
  },
  {
   "cell_type": "code",
   "execution_count": null,
   "metadata": {
    "colab": {
     "base_uri": "https://localhost:8080/",
     "height": 1000
    },
    "colab_type": "code",
    "executionInfo": {
     "elapsed": 583,
     "status": "ok",
     "timestamp": 1586888151979,
     "user": {
      "displayName": "Paul Mochkovitch",
      "photoUrl": "https://lh3.googleusercontent.com/a-/AOh14GgB58_lABQ4ByEAHWzpij5b24LDNohM6Q9ajVK7=s64",
      "userId": "15704966492254202589"
     },
     "user_tz": -120
    },
    "id": "aSYDhWibVJaf",
    "outputId": "f1d2e58b-9437-4c4a-921a-2852181205ba"
   },
   "outputs": [
    {
     "data": {
      "text/plain": [
       "array([[-0.25358736, -1.25512738,  1.02020406],\n",
       "       [ 0.31949142, -0.72655996,  1.02020406],\n",
       "       [-0.15807423,  1.65199342, -0.98019606],\n",
       "       [ 0.98808332,  1.44643942, -0.98019606],\n",
       "       [-1.01769239, -0.37418169, -0.98019606],\n",
       "       [-0.54012675, -1.51941109,  1.02020406],\n",
       "       [-1.6862843 ,  0.47739916,  1.02020406],\n",
       "       [-0.25358736, -1.37258681, -0.98019606],\n",
       "       [ 2.13424088,  1.123426  , -0.98019606],\n",
       "       [-1.78179743, -1.28449224, -0.98019606],\n",
       "       [ 0.22397829, -0.37418169,  1.02020406],\n",
       "       [-0.25358736, -0.9027491 ,  1.02020406],\n",
       "       [ 0.22397829,  0.2424803 ,  1.02020406],\n",
       "       [-0.25358736, -0.25672226,  1.02020406],\n",
       "       [-0.0625611 , -0.52100597,  1.02020406],\n",
       "       [-1.39974491, -1.22576253, -0.98019606],\n",
       "       [-0.0625611 ,  0.12502088,  1.02020406],\n",
       "       [ 0.12846516,  0.03692631, -0.98019606],\n",
       "       [-0.82666613, -0.78528968,  1.02020406],\n",
       "       [-0.25358736, -0.31545197,  1.02020406],\n",
       "       [-0.25358736, -0.13926283, -0.98019606],\n",
       "       [ 2.03872775, -0.81465453, -0.98019606],\n",
       "       [-1.30423178, -1.25512738, -0.98019606],\n",
       "       [-1.39974491, -0.19799255,  1.02020406],\n",
       "       [-0.34910049, -0.78528968, -0.98019606],\n",
       "       [-0.25358736,  0.15438573,  1.02020406],\n",
       "       [ 0.79705706, -1.22576253,  1.02020406],\n",
       "       [ 1.84770149,  1.53453399, -0.98019606],\n",
       "       [-1.01769239, -0.34481683, -0.98019606],\n",
       "       [-0.44461362, -1.22576253, -0.98019606],\n",
       "       [-1.59077117, -0.05116826, -0.98019606],\n",
       "       [ 0.41500455,  1.123426  , -0.98019606],\n",
       "       [ 0.12846516,  0.09565602, -0.98019606],\n",
       "       [-0.0625611 ,  0.03692631, -0.98019606],\n",
       "       [ 0.51051768,  1.85754742, -0.98019606],\n",
       "       [ 1.17910958, -0.75592482, -0.98019606],\n",
       "       [ 0.12846516,  0.27184516, -0.98019606],\n",
       "       [ 0.70154394, -1.1083031 ,  1.02020406],\n",
       "       [-1.01769239,  0.53612887,  1.02020406],\n",
       "       [ 1.08359645,  0.53612887,  1.02020406],\n",
       "       [ 1.94321462, -0.66783025, -0.98019606],\n",
       "       [-0.92217926, -0.31545197, -0.98019606],\n",
       "       [ 0.31949142, -0.28608712, -0.98019606],\n",
       "       [-1.11320552,  0.47739916,  1.02020406],\n",
       "       [ 0.41500455, -0.13926283,  1.02020406],\n",
       "       [-1.78179743, -1.49004624,  1.02020406],\n",
       "       [-0.25358736,  1.123426  ,  1.02020406],\n",
       "       [-1.11320552, -1.02020853, -0.98019606],\n",
       "       [ 0.22397829, -0.37418169,  1.02020406],\n",
       "       [ 1.75218836,  1.85754742,  1.02020406],\n",
       "       [-0.34910049,  1.24088543,  1.02020406],\n",
       "       [ 0.41500455, -0.16862769,  1.02020406],\n",
       "       [ 1.46564897, -1.04957339, -0.98019606],\n",
       "       [ 1.37013584, -1.43131652, -0.98019606],\n",
       "       [ 1.75218836,  1.00596657, -0.98019606],\n",
       "       [-0.92217926,  0.50676401, -0.98019606],\n",
       "       [-0.15807423,  2.18056084,  1.02020406],\n",
       "       [-1.49525804, -0.19799255, -0.98019606],\n",
       "       [-1.11320552,  0.30121002,  1.02020406],\n",
       "       [ 0.98808332, -0.84401939,  1.02020406],\n",
       "       [ 0.41500455,  0.30121002,  1.02020406],\n",
       "       [-0.92217926,  0.27184516,  1.02020406],\n",
       "       [ 0.89257019, -0.66783025, -0.98019606],\n",
       "       [-0.25358736, -1.3138571 , -0.98019606],\n",
       "       [-1.20871865, -1.07893824,  1.02020406],\n",
       "       [-0.92217926, -0.31545197,  1.02020406],\n",
       "       [-1.78179743,  0.00756145,  1.02020406],\n",
       "       [ 0.31949142, -0.19799255, -0.98019606],\n",
       "       [-0.54012675, -1.51941109,  1.02020406],\n",
       "       [-1.87731056, -0.05116826, -0.98019606],\n",
       "       [-0.73115301,  0.50676401,  1.02020406],\n",
       "       [-1.20871865,  0.27184516,  1.02020406],\n",
       "       [-0.54012675,  1.47580428,  1.02020406],\n",
       "       [-0.0625611 ,  0.2424803 , -0.98019606],\n",
       "       [ 1.94321462,  0.74168287, -0.98019606],\n",
       "       [-1.6862843 , -0.99084367, -0.98019606],\n",
       "       [ 0.03295203,  0.03692631,  1.02020406],\n",
       "       [ 0.03295203,  0.03692631,  1.02020406],\n",
       "       [-0.0625611 ,  2.23929055, -0.98019606],\n",
       "       [ 0.31949142, -0.52100597,  1.02020406]])"
      ]
     },
     "execution_count": 31,
     "metadata": {
      "tags": []
     },
     "output_type": "execute_result"
    }
   ],
   "source": [
    "X_test"
   ]
  },
  {
   "cell_type": "code",
   "execution_count": null,
   "metadata": {
    "colab": {
     "base_uri": "https://localhost:8080/",
     "height": 52
    },
    "colab_type": "code",
    "executionInfo": {
     "elapsed": 1185,
     "status": "ok",
     "timestamp": 1586888608649,
     "user": {
      "displayName": "Paul Mochkovitch",
      "photoUrl": "https://lh3.googleusercontent.com/a-/AOh14GgB58_lABQ4ByEAHWzpij5b24LDNohM6Q9ajVK7=s64",
      "userId": "15704966492254202589"
     },
     "user_tz": -120
    },
    "id": "xHJ1adRgSqbA",
    "outputId": "8dcbff45-0f90-476b-d65f-e1f5455b2721"
   },
   "outputs": [
    {
     "data": {
      "text/plain": [
       "array([[55,  5],\n",
       "       [ 5, 15]])"
      ]
     },
     "execution_count": 46,
     "metadata": {
      "tags": []
     },
     "output_type": "execute_result"
    }
   ],
   "source": [
    "# Matrice de confusion \n",
    "from sklearn.metrics import confusion_matrix\n",
    "\n",
    "cm = confusion_matrix(y_test, classifier.predict(X_test))\n",
    "cm"
   ]
  },
  {
   "cell_type": "code",
   "execution_count": null,
   "metadata": {
    "colab": {
     "base_uri": "https://localhost:8080/",
     "height": 282
    },
    "colab_type": "code",
    "executionInfo": {
     "elapsed": 633,
     "status": "ok",
     "timestamp": 1586888702603,
     "user": {
      "displayName": "Paul Mochkovitch",
      "photoUrl": "https://lh3.googleusercontent.com/a-/AOh14GgB58_lABQ4ByEAHWzpij5b24LDNohM6Q9ajVK7=s64",
      "userId": "15704966492254202589"
     },
     "user_tz": -120
    },
    "id": "ZCkQqbGjTF3F",
    "outputId": "ea67ee07-a6e1-4104-b130-d14b9ee7c8f4"
   },
   "outputs": [
    {
     "data": {
      "text/plain": [
       "<matplotlib.axes._subplots.AxesSubplot at 0x7f3975c34be0>"
      ]
     },
     "execution_count": 47,
     "metadata": {
      "tags": []
     },
     "output_type": "execute_result"
    },
    {
     "data": {
      "image/png": "[encoded data removed]",
      "text/plain": [
       "<Figure size 432x288 with 2 Axes>"
      ]
     },
     "metadata": {
      "needs_background": "light",
      "tags": []
     },
     "output_type": "display_data"
    }
   ],
   "source": [
    "# Visualisation via Seaborn \n",
    "sns.heatmap(cm, annot=True, fmt=\".2f\")"
   ]
  },
  {
   "cell_type": "code",
   "execution_count": null,
   "metadata": {
    "colab": {
     "base_uri": "https://localhost:8080/",
     "height": 35
    },
    "colab_type": "code",
    "executionInfo": {
     "elapsed": 684,
     "status": "ok",
     "timestamp": 1586888943321,
     "user": {
      "displayName": "Paul Mochkovitch",
      "photoUrl": "https://lh3.googleusercontent.com/a-/AOh14GgB58_lABQ4ByEAHWzpij5b24LDNohM6Q9ajVK7=s64",
      "userId": "15704966492254202589"
     },
     "user_tz": -120
    },
    "id": "PutbIMQjP2tE",
    "outputId": "9f2e1229-ab4f-430f-fbc5-e34ad0a52ca9"
   },
   "outputs": [
    {
     "data": {
      "text/plain": [
       "array([2.27948773, 1.09448846, 0.14137197])"
      ]
     },
     "execution_count": 52,
     "metadata": {
      "tags": []
     },
     "output_type": "execute_result"
    }
   ],
   "source": [
    "classifier.coef_.squeeze()"
   ]
  },
  {
   "cell_type": "code",
   "execution_count": null,
   "metadata": {
    "colab": {
     "base_uri": "https://localhost:8080/",
     "height": 138
    },
    "colab_type": "code",
    "executionInfo": {
     "elapsed": 609,
     "status": "ok",
     "timestamp": 1586888990823,
     "user": {
      "displayName": "Paul Mochkovitch",
      "photoUrl": "https://lh3.googleusercontent.com/a-/AOh14GgB58_lABQ4ByEAHWzpij5b24LDNohM6Q9ajVK7=s64",
      "userId": "15704966492254202589"
     },
     "user_tz": -120
    },
    "id": "kHfNwTfETKus",
    "outputId": "cb0f3766-c99d-4ade-8492-c33037d1a300"
   },
   "outputs": [
    {
     "data": {
      "text/html": [
       "<div>\n",
       "<style scoped>\n",
       "    .dataframe tbody tr th:only-of-type {\n",
       "        vertical-align: middle;\n",
       "    }\n",
       "\n",
       "    .dataframe tbody tr th {\n",
       "        vertical-align: top;\n",
       "    }\n",
       "\n",
       "    .dataframe thead th {\n",
       "        text-align: right;\n",
       "    }\n",
       "</style>\n",
       "<table border=\"1\" class=\"dataframe\">\n",
       "  <thead>\n",
       "    <tr style=\"text-align: right;\">\n",
       "      <th></th>\n",
       "      <th>Features</th>\n",
       "      <th>Values</th>\n",
       "    </tr>\n",
       "  </thead>\n",
       "  <tbody>\n",
       "    <tr>\n",
       "      <th>0</th>\n",
       "      <td>Age</td>\n",
       "      <td>2.279488</td>\n",
       "    </tr>\n",
       "    <tr>\n",
       "      <th>1</th>\n",
       "      <td>Estimated Salary</td>\n",
       "      <td>1.094488</td>\n",
       "    </tr>\n",
       "    <tr>\n",
       "      <th>2</th>\n",
       "      <td>Gender</td>\n",
       "      <td>0.141372</td>\n",
       "    </tr>\n",
       "  </tbody>\n",
       "</table>\n",
       "</div>"
      ],
      "text/plain": [
       "           Features    Values\n",
       "0               Age  2.279488\n",
       "1  Estimated Salary  1.094488\n",
       "2            Gender  0.141372"
      ]
     },
     "execution_count": 53,
     "metadata": {
      "tags": []
     },
     "output_type": "execute_result"
    }
   ],
   "source": [
    "# Feature importance \n",
    "pd.DataFrame({\"Features\": [\"Age\", \"Estimated Salary\", \"Gender\"],\n",
    "              \"Values\": classifier.coef_.squeeze()})"
   ]
  },
  {
   "cell_type": "code",
   "execution_count": null,
   "metadata": {
    "colab": {
     "base_uri": "https://localhost:8080/",
     "height": 34
    },
    "colab_type": "code",
    "executionInfo": {
     "elapsed": 16762,
     "status": "ok",
     "timestamp": 1582582919647,
     "user": {
      "displayName": "Nicolas Bancel",
      "photoUrl": "https://lh3.googleusercontent.com/a-/AAuE7mAyYdzC9rOkEWeV8AYb1OSHQLnti_DLr9YJRdw1=s64",
      "userId": "03885597131387353731"
     },
     "user_tz": -60
    },
    "id": "B94SvOp2UFzD",
    "outputId": "5b63a15e-4b64-4f32-9730-e3fff0aad28c"
   },
   "outputs": [
    {
     "data": {
      "text/plain": [
       "80"
      ]
     },
     "execution_count": 24,
     "metadata": {
      "tags": []
     },
     "output_type": "execute_result"
    }
   ],
   "source": [
    "48+17+9+6"
   ]
  },
  {
   "cell_type": "code",
   "execution_count": null,
   "metadata": {
    "colab": {
     "base_uri": "https://localhost:8080/",
     "height": 34
    },
    "colab_type": "code",
    "executionInfo": {
     "elapsed": 16730,
     "status": "ok",
     "timestamp": 1582582919648,
     "user": {
      "displayName": "Nicolas Bancel",
      "photoUrl": "https://lh3.googleusercontent.com/a-/AAuE7mAyYdzC9rOkEWeV8AYb1OSHQLnti_DLr9YJRdw1=s64",
      "userId": "03885597131387353731"
     },
     "user_tz": -60
    },
    "id": "O7-o_glDfwWJ",
    "outputId": "32cdd993-6fe2-4636-e8b1-1e1e9c456af3"
   },
   "outputs": [
    {
     "data": {
      "text/plain": [
       "0.8125"
      ]
     },
     "execution_count": 25,
     "metadata": {
      "tags": []
     },
     "output_type": "execute_result"
    }
   ],
   "source": [
    "(48+17) / 80"
   ]
  },
  {
   "cell_type": "code",
   "execution_count": null,
   "metadata": {
    "colab": {
     "base_uri": "https://localhost:8080/",
     "height": 372
    },
    "colab_type": "code",
    "executionInfo": {
     "elapsed": 17762,
     "status": "ok",
     "timestamp": 1582582920690,
     "user": {
      "displayName": "Nicolas Bancel",
      "photoUrl": "https://lh3.googleusercontent.com/a-/AAuE7mAyYdzC9rOkEWeV8AYb1OSHQLnti_DLr9YJRdw1=s64",
      "userId": "03885597131387353731"
     },
     "user_tz": -60
    },
    "id": "aOIA3sWlzINc",
    "outputId": "321f7460-99cc-48f0-fa3a-f52326368b1c"
   },
   "outputs": [
    {
     "name": "stdout",
     "output_type": "stream",
     "text": [
      "Optimization terminated successfully.\n",
      "         Current function value: 0.344804\n",
      "         Iterations 8\n",
      "                           Logit Regression Results                           \n",
      "==============================================================================\n",
      "Dep. Variable:              Purchased   No. Observations:                  400\n",
      "Model:                          Logit   Df Residuals:                      396\n",
      "Method:                           MLE   Df Model:                            3\n",
      "Date:                Mon, 24 Feb 2020   Pseudo R-squ.:                  0.4711\n",
      "Time:                        22:22:00   Log-Likelihood:                -137.92\n",
      "converged:                       True   LL-Null:                       -260.79\n",
      "Covariance Type:            nonrobust   LLR p-value:                 5.488e-53\n",
      "==============================================================================\n",
      "                 coef    std err          z      P>|z|      [0.025      0.975]\n",
      "------------------------------------------------------------------------------\n",
      "const         -1.1555      0.171     -6.753      0.000      -1.491      -0.820\n",
      "x1             2.4810      0.276      8.984      0.000       1.940       3.022\n",
      "x2             1.2410      0.186      6.659      0.000       0.876       1.606\n",
      "x3             0.1669      0.153      1.094      0.274      -0.132       0.466\n",
      "==============================================================================\n"
     ]
    }
   ],
   "source": [
    "# Additional info :\n",
    "# On peut observer que le \"Gender\" n'est pas significatif comme variable dépendante pour notre modèle, avec un p-value = 0.274\n",
    "\n",
    "import statsmodels.api as sm\n",
    "\n",
    "logit_model = sm.Logit(y, sm.add_constant(X)).fit()\n",
    "print(logit_model.summary())"
   ]
  }
 ],
 "metadata": {
  "colab": {
   "collapsed_sections": [],
   "name": "Logistic_Regression_Template.ipynb",
   "provenance": []
  },
  "kernelspec": {
   "display_name": "Python 3",
   "language": "python",
   "name": "python3"
  },
  "language_info": {
   "codemirror_mode": {
    "name": "ipython",
    "version": 3
   },
   "file_extension": ".py",
   "mimetype": "text/x-python",
   "name": "python",
   "nbconvert_exporter": "python",
   "pygments_lexer": "ipython3",
   "version": "3.8.3"
  }
 },
 "nbformat": 4,
 "nbformat_minor": 1
}
